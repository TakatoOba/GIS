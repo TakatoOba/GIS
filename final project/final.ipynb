{
 "cells": [
  {
   "cell_type": "markdown",
   "metadata": {},
   "source": [
    "# relationship between heartrate and elevation \n",
    "\n",
    "Download the GPX file from strava to reveal the correlation between the elevation and heart rate I gained on the Shiga Kogen Hill Climb.\n",
    "\n",
    "Analysing sauna heart rate data in Python ~ fit file processing ~.\n",
    "https://life100create.com/python_garmin-fit_analysis/\n",
    "\n",
    "Analysing GPS logs during mountain climbing with Python (3) Estimating pitch information during multi-pitch climbing\n",
    "https://aotoshiro.jpn.org/2021/2416\n",
    "\n"
   ]
  },
  {
   "cell_type": "code",
   "execution_count": null,
   "metadata": {},
   "outputs": [],
   "source": [
    "\n"
   ]
  },
  {
   "cell_type": "code",
   "execution_count": null,
   "metadata": {},
   "outputs": [],
   "source": []
  }
 ],
 "metadata": {
  "language_info": {
   "name": "python"
  }
 },
 "nbformat": 4,
 "nbformat_minor": 2
}
