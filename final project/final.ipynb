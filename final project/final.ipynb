{
 "cells": [
  {
   "cell_type": "markdown",
   "metadata": {},
   "source": [
    "# relationship between heartrate and elevation \n",
    "\n",
    "Download the GPX file from strava to reveal the correlation between the elevation and heart rate I gained on the Shiga Kogen Hill Climb.\n",
    "\n",
    "Analysing sauna heart rate data in Python ~ fit file processing ~.\n",
    "https://life100create.com/python_garmin-fit_analysis/\n",
    "\n",
    "Analysing GPS logs during mountain climbing with Python (3) Estimating pitch information during multi-pitch climbing\n",
    "https://aotoshiro.jpn.org/2021/2416\n",
    "\n"
   ]
  },
  {
   "cell_type": "code",
   "execution_count": null,
   "metadata": {},
   "outputs": [],
   "source": [
    "\n"
   ]
  },
  {
   "cell_type": "code",
   "execution_count": null,
   "metadata": {},
   "outputs": [],
   "source": []
  }
 ],
 "metadata": {
  "kernelspec": {
   "display_name": "gis",
   "language": "python",
   "name": "python3"
  },
  "language_info": {
   "codemirror_mode": {
    "name": "ipython",
    "version": 3
   },
   "file_extension": ".py",
   "mimetype": "text/x-python",
   "name": "python",
   "nbconvert_exporter": "python",
   "pygments_lexer": "ipython3",
   "version": "3.11.9"
  }
 },
 "nbformat": 4,
 "nbformat_minor": 2
}
